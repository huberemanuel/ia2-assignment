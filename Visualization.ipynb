{
  "nbformat": 4,
  "nbformat_minor": 0,
  "metadata": {
    "colab": {
      "name": "Visualization.ipynb",
      "provenance": [],
      "collapsed_sections": []
    },
    "kernelspec": {
      "name": "python3",
      "display_name": "Python 3"
    },
    "language_info": {
      "name": "python"
    }
  },
  "cells": [
    {
      "cell_type": "code",
      "metadata": {
        "id": "wdNqdYAy8jFr"
      },
      "source": [
        "import pandas as pd\n",
        "import numpy as np\n",
        "import matplotlib.pyplot as plt"
      ],
      "execution_count": 1,
      "outputs": []
    },
    {
      "cell_type": "code",
      "metadata": {
        "colab": {
          "base_uri": "https://localhost:8080/",
          "height": 306
        },
        "id": "v4mIQ_ok88_g",
        "outputId": "3b085fcb-5912-454f-9855-6e23938fe3e4"
      },
      "source": [
        "data_df = pd.read_csv(\"result.csv\")\n",
        "data_df.head()"
      ],
      "execution_count": 2,
      "outputs": [
        {
          "output_type": "execute_result",
          "data": {
            "text/html": [
              "<div>\n",
              "<style scoped>\n",
              "    .dataframe tbody tr th:only-of-type {\n",
              "        vertical-align: middle;\n",
              "    }\n",
              "\n",
              "    .dataframe tbody tr th {\n",
              "        vertical-align: top;\n",
              "    }\n",
              "\n",
              "    .dataframe thead th {\n",
              "        text-align: right;\n",
              "    }\n",
              "</style>\n",
              "<table border=\"1\" class=\"dataframe\">\n",
              "  <thead>\n",
              "    <tr style=\"text-align: right;\">\n",
              "      <th></th>\n",
              "      <th>Carimbo de data/hora</th>\n",
              "      <th>Nome</th>\n",
              "      <th>Assinale para quais valores você aceitaria jogar a moeda, sabendo dos riscos de perder o valor inicial, mas podendo ganhar muito mais se aceitar arriscar. Você pode escolher mais de uma opção, escolha todas que fazem sentido para você.</th>\n",
              "    </tr>\n",
              "  </thead>\n",
              "  <tbody>\n",
              "    <tr>\n",
              "      <th>0</th>\n",
              "      <td>09/07/2021 14:51:58</td>\n",
              "      <td>Emanuel Huber</td>\n",
              "      <td>Se eu tiver acumulado R$ 100, aceito arriscar ...</td>\n",
              "    </tr>\n",
              "    <tr>\n",
              "      <th>1</th>\n",
              "      <td>09/07/2021 14:52:51</td>\n",
              "      <td>Juliano</td>\n",
              "      <td>Se eu tiver acumulado R$ 100, aceito arriscar ...</td>\n",
              "    </tr>\n",
              "    <tr>\n",
              "      <th>2</th>\n",
              "      <td>09/07/2021 14:54:38</td>\n",
              "      <td>Rebecca</td>\n",
              "      <td>Se eu tiver acumulado R$ 100, aceito arriscar ...</td>\n",
              "    </tr>\n",
              "    <tr>\n",
              "      <th>3</th>\n",
              "      <td>09/07/2021 14:54:57</td>\n",
              "      <td>Ana Caroline</td>\n",
              "      <td>Se eu tiver acumulado R$ 100, aceito arriscar ...</td>\n",
              "    </tr>\n",
              "    <tr>\n",
              "      <th>4</th>\n",
              "      <td>09/07/2021 14:55:03</td>\n",
              "      <td>Daniel Morais</td>\n",
              "      <td>Se eu tiver acumulado R$ 100, aceito arriscar ...</td>\n",
              "    </tr>\n",
              "  </tbody>\n",
              "</table>\n",
              "</div>"
            ],
            "text/plain": [
              "  Carimbo de data/hora  ... Assinale para quais valores você aceitaria jogar a moeda, sabendo dos riscos de perder o valor inicial, mas podendo ganhar muito mais se aceitar arriscar. Você pode escolher mais de uma opção, escolha todas que fazem sentido para você.\n",
              "0  09/07/2021 14:51:58  ...  Se eu tiver acumulado R$ 100, aceito arriscar ...                                                                                                                                                                                         \n",
              "1  09/07/2021 14:52:51  ...  Se eu tiver acumulado R$ 100, aceito arriscar ...                                                                                                                                                                                         \n",
              "2  09/07/2021 14:54:38  ...  Se eu tiver acumulado R$ 100, aceito arriscar ...                                                                                                                                                                                         \n",
              "3  09/07/2021 14:54:57  ...  Se eu tiver acumulado R$ 100, aceito arriscar ...                                                                                                                                                                                         \n",
              "4  09/07/2021 14:55:03  ...  Se eu tiver acumulado R$ 100, aceito arriscar ...                                                                                                                                                                                         \n",
              "\n",
              "[5 rows x 3 columns]"
            ]
          },
          "metadata": {
            "tags": []
          },
          "execution_count": 2
        }
      ]
    },
    {
      "cell_type": "markdown",
      "metadata": {
        "id": "XqXVEkERSbLZ"
      },
      "source": [
        "Preparando dados"
      ]
    },
    {
      "cell_type": "code",
      "metadata": {
        "id": "ugcZzTvu-CMZ"
      },
      "source": [
        "x_values = []\n",
        "y_values = []\n",
        "for i, row in data_df.iterrows():\n",
        "    text = row[-1]\n",
        "    u = len(text.split(\"Se eu tiver\"))\n",
        "    u = 1\n",
        "    if \"R$ 100, aceito\" in text:\n",
        "        x_values.append(100 + 250)\n",
        "        y_values.append(u)\n",
        "        u += 1\n",
        "    if \"R$ 500, aceito\" in text:\n",
        "        x_values.append(500 + 1250)\n",
        "        y_values.append(u)\n",
        "        u += 1\n",
        "    if \"R$ 1.000, aceito\" in text:\n",
        "        x_values.append(1000 + 2500)\n",
        "        y_values.append(u)\n",
        "        u += 1\n",
        "    if \"R$ 10.000, aceito\" in text:\n",
        "        x_values.append(10000 + 25000)\n",
        "        y_values.append(u)\n",
        "        u += 1\n",
        "    if \"R$ 50.000, aceito\" in text:\n",
        "        x_values.append(50000 + 50000*2.5)\n",
        "        y_values.append(u)\n",
        "        u += 1\n",
        "    if \"R$ 500.000, aceito\" in text:\n",
        "        x_values.append(500000 + 500000*2.5)\n",
        "        y_values.append(u)\n",
        "        u += 1\n",
        "    if \"R$ 1.000.000, aceito\" in text:\n",
        "        x_values.append(1000000 + 1000000*2.5)\n",
        "        y_values.append(u)\n",
        "        u += 1\n",
        "    if \"R$ 10.000.000, aceito\" in text:\n",
        "        x_values.append(10000000 + 10000000*2.5)\n",
        "        y_values.append(u)"
      ],
      "execution_count": 71,
      "outputs": []
    },
    {
      "cell_type": "markdown",
      "metadata": {
        "id": "rEFyJpG1SUv0"
      },
      "source": [
        "## Resultados originais"
      ]
    },
    {
      "cell_type": "code",
      "metadata": {
        "colab": {
          "base_uri": "https://localhost:8080/",
          "height": 295
        },
        "id": "ucXGFtqrSTpM",
        "outputId": "35cc698e-35e5-4475-b348-36a88d373643"
      },
      "source": [
        "plt.scatter(x_values, y_values)"
      ],
      "execution_count": 72,
      "outputs": [
        {
          "output_type": "execute_result",
          "data": {
            "text/plain": [
              "<matplotlib.collections.PathCollection at 0x7f8b8c7b7910>"
            ]
          },
          "metadata": {
            "tags": []
          },
          "execution_count": 72
        },
        {
          "output_type": "display_data",
          "data": {
            "image/png": "[encoded data removed]",
            "text/plain": [
              "<Figure size 432x288 with 1 Axes>"
            ]
          },
          "metadata": {
            "tags": [],
            "needs_background": "light"
          }
        }
      ]
    },
    {
      "cell_type": "markdown",
      "metadata": {
        "id": "Ex-lNwncSXQU"
      },
      "source": [
        "## Resultados originais + plot de log"
      ]
    },
    {
      "cell_type": "code",
      "metadata": {
        "colab": {
          "base_uri": "https://localhost:8080/",
          "height": 295
        },
        "id": "0uIISLTFFf9a",
        "outputId": "a08900dc-2493-4689-a099-2a9cc1d7c4b7"
      },
      "source": [
        "plt.scatter(x_values, y_values)\n",
        "log_values = np.arange(min(x_values), max(x_values), 100)\n",
        "plt.scatter(log_values, .45*np.log(np.array(log_values)))"
      ],
      "execution_count": 69,
      "outputs": [
        {
          "output_type": "execute_result",
          "data": {
            "text/plain": [
              "<matplotlib.collections.PathCollection at 0x7f8b8c05ef90>"
            ]
          },
          "metadata": {
            "tags": []
          },
          "execution_count": 69
        },
        {
          "output_type": "display_data",
          "data": {
            "image/png": "[encoded data removed]",
            "text/plain": [
              "<Figure size 432x288 with 1 Axes>"
            ]
          },
          "metadata": {
            "tags": [],
            "needs_background": "light"
          }
        }
      ]
    }
  ]
}